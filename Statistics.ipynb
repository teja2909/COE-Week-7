{
 "cells": [
  {
   "cell_type": "markdown",
   "id": "301f037b",
   "metadata": {},
   "source": [
    "### Statistics\n",
    "1. Descriptive\n",
    "2. Inferential"
   ]
  },
  {
   "cell_type": "markdown",
   "id": "07d023fe",
   "metadata": {},
   "source": [
    "#### Descriptive\n",
    "    Organizing and summarizing the given data\n",
    "    \n",
    "  1. Measure of Central Tendency\n",
    "        - Mean\n",
    "        - Median\n",
    "        - Mode\n",
    "  2. Measure of Dispersion\n",
    "      - Variance\n",
    "      - Standard Deviation\n",
    "      \n",
    " "
   ]
  },
  {
   "cell_type": "markdown",
   "id": "fe3abbe6",
   "metadata": {},
   "source": [
    "## Measures of Central Tendency and Dispersion\n",
    "\n",
    "### 1. Measure of Central Tendency\n",
    "\n",
    "### **Mean**\n",
    "The mean is the average of a set of values. It is calculated by summing all the values and dividing by the total number of values.\n",
    "\n",
    "#### Formula:\n",
    "- **Population Mean**:  \n",
    "  $$ \\mu = \\frac{\\sum_{i=1}^{N} x_i}{N} $$\n",
    "- **Sample Mean**:  \n",
    "  $$ \\bar{x} = \\frac{\\sum_{i=1}^{n} x_i}{n} $$\n",
    "\n",
    "Where:  \n",
    "- $\\mu$ is the population mean  \n",
    "- $\\bar{x}$ is the sample mean  \n",
    "- $x_i$ is each individual value  \n",
    "- $N$ is the population size  \n",
    "- $n$ is the sample size\n",
    "\n",
    "### **Median**\n",
    "The median is the middle value when the data is arranged in ascending or descending order. If there is an even number of data points, the median is the average of the two middle numbers.\n",
    "\n",
    "#### Formula:\n",
    "- **Population Median** and **Sample Median**:  \n",
    "  There is no distinct formula, but the process is as follows:\n",
    "  1. Sort the data in increasing order.\n",
    "  2. Find the middle value. If the number of values is odd, the median is the middle value. If even, take the average of the two middle values.\n",
    "\n",
    "### **Mode**\n",
    "The mode is the value that appears most frequently in a data set. A set of data may have one mode, more than one mode, or no mode at all.\n",
    "\n",
    "#### Formula:\n",
    "- **Population Mode** and **Sample Mode**:  \n",
    "  There is no specific formula; the mode is simply the value that appears the most frequently in the data.\n",
    "\n",
    "---\n",
    "\n",
    "## 2. Measure of Dispersion\n",
    "\n",
    "### **Variance**\n",
    "Variance measures the spread of data points from the mean. A higher variance indicates a wider spread, while a lower variance indicates that the data points are closer to the mean.\n",
    "\n",
    "#### Formula:\n",
    "- **Population Variance**:  \n",
    "  $$ \\sigma^2 = \\frac{\\sum_{i=1}^{N} (x_i - \\mu)^2}{N} $$\n",
    "- **Sample Variance**:  \n",
    "  $$ s^2 = \\frac{\\sum_{i=1}^{n} (x_i - \\bar{x})^2}{n-1} $$\n",
    "\n",
    "Where:  \n",
    "- $\\sigma^2$ is the population variance  \n",
    "- $s^2$ is the sample variance  \n",
    "- $x_i$ is each individual value  \n",
    "- $\\mu$ is the population mean  \n",
    "- $\\bar{x}$ is the sample mean  \n",
    "- $N$ is the population size  \n",
    "- $n$ is the sample size\n",
    "\n",
    "### **Standard Deviation**\n",
    "Standard deviation is the square root of the variance, providing a measure of how spread out the data is. It is in the same unit as the data itself.\n",
    "\n",
    "#### Formula:\n",
    "- **Population Standard Deviation**:  \n",
    "  $$ \\sigma = \\sqrt{\\frac{\\sum_{i=1}^{N} (x_i - \\mu)^2}{N}} $$\n",
    "- **Sample Standard Deviation**:  \n",
    "  $$ s = \\sqrt{\\frac{\\sum_{i=1}^{n} (x_i - \\bar{x})^2}{n-1}} $$\n",
    "\n",
    "Where:  \n",
    "- $\\sigma$ is the population standard deviation  \n",
    "- $s$ is the sample standard deviation  \n",
    "- $x_i$ is each individual value  \n",
    "- $\\mu$ is the population mean  \n",
    "- $\\bar{x}$ is the sample mean  \n",
    "- $N$ is the population size  \n",
    "- $n$ is the sample size\n"
   ]
  },
  {
   "cell_type": "markdown",
   "id": "608574b1",
   "metadata": {},
   "source": [
    "#### Inferential\n",
    "    We make conclusions from the given data"
   ]
  },
  {
   "cell_type": "markdown",
   "id": "472a8a1e",
   "metadata": {},
   "source": [
    "### Variables\n",
    "1. Quantitative \n",
    "    - Discrete ( Ex: No.of Students)\n",
    "    - Continous (Ex: Heights)\n",
    "2. Qualitative\n",
    "    - Gender(male/female)\n",
    "\n",
    "##### Random Variables\n",
    "1. Discrete\n",
    "2. Continous"
   ]
  },
  {
   "cell_type": "markdown",
   "id": "c8ee88a2",
   "metadata": {},
   "source": [
    "### Probablity\n",
    "\n"
   ]
  },
  {
   "cell_type": "markdown",
   "id": "c426e3dc",
   "metadata": {},
   "source": [
    "### Probablity Distributions"
   ]
  },
  {
   "cell_type": "code",
   "execution_count": 5,
   "id": "027c639b",
   "metadata": {},
   "outputs": [],
   "source": [
    "import pandas as pd\n",
    "import numpy as np"
   ]
  },
  {
   "cell_type": "code",
   "execution_count": null,
   "id": "9f13011a",
   "metadata": {},
   "outputs": [],
   "source": []
  }
 ],
 "metadata": {
  "kernelspec": {
   "display_name": "Python 3 (ipykernel)",
   "language": "python",
   "name": "python3"
  },
  "language_info": {
   "codemirror_mode": {
    "name": "ipython",
    "version": 3
   },
   "file_extension": ".py",
   "mimetype": "text/x-python",
   "name": "python",
   "nbconvert_exporter": "python",
   "pygments_lexer": "ipython3",
   "version": "3.11.5"
  }
 },
 "nbformat": 4,
 "nbformat_minor": 5
}
